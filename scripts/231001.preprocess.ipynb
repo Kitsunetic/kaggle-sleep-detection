{
 "cells": [
  {
   "cell_type": "code",
   "execution_count": 1,
   "id": "d6c652b9-642b-47dc-84b4-3bed06623b24",
   "metadata": {
    "tags": []
   },
   "outputs": [
    {
     "name": "stdout",
     "output_type": "stream",
     "text": [
      "/root/dev/ddpm/kaggle-sleep-detection\n"
     ]
    }
   ],
   "source": [
    "%load_ext lab_black\n",
    "%cd .."
   ]
  },
  {
   "cell_type": "code",
   "execution_count": 2,
   "id": "c1887b46-79d1-4cd6-b5dc-f33dd4b327f5",
   "metadata": {
    "tags": []
   },
   "outputs": [],
   "source": [
    "import pandas as pd\n",
    "import matplotlib.pyplot as plt\n",
    "import numpy as np\n",
    "from datetime import datetime, timezone\n",
    "import h5py"
   ]
  },
  {
   "cell_type": "code",
   "execution_count": 3,
   "id": "fcb00d13-63fd-4810-bb77-de9f61787e5c",
   "metadata": {
    "tags": []
   },
   "outputs": [],
   "source": [
    "try:\n",
    "    out_file.close()\n",
    "except:\n",
    "    pass\n",
    "\n",
    "out_file = h5py.File(\"data/mydata_v231001.hdf5\", \"w\")"
   ]
  },
  {
   "cell_type": "markdown",
   "id": "736a8832-85f5-4c81-9faa-d74f8f884eb1",
   "metadata": {},
   "source": [
    "# Parse `test_series.parquet`"
   ]
  },
  {
   "cell_type": "code",
   "execution_count": 4,
   "id": "043e2bbc-3834-4236-8fc6-8e5ff3263df2",
   "metadata": {
    "tags": []
   },
   "outputs": [],
   "source": [
    "df = pd.read_parquet(\"../data/kaggle-sleep-detection/test_series.parquet\", engine=\"pyarrow\")"
   ]
  },
  {
   "cell_type": "code",
   "execution_count": 5,
   "id": "c1d301cf-4a5d-4bee-9ca9-263d16ce1fab",
   "metadata": {
    "tags": []
   },
   "outputs": [],
   "source": [
    "series_ids = df.series_id.unique()"
   ]
  },
  {
   "cell_type": "code",
   "execution_count": 6,
   "id": "d44be104-8436-4e5d-a1ff-52938b3394c4",
   "metadata": {
    "tags": []
   },
   "outputs": [],
   "source": [
    "data = df.to_numpy()"
   ]
  },
  {
   "cell_type": "code",
   "execution_count": 7,
   "id": "02f34079-0529-4b45-bd91-cfbfd531356d",
   "metadata": {
    "tags": []
   },
   "outputs": [],
   "source": [
    "data_series_id = data[:, 0].tolist()\n",
    "data_step = data[:, 1].astype(np.int32)\n",
    "\n",
    "timestamp = data[:, 2]\n",
    "t = []\n",
    "for x in timestamp:\n",
    "    if isinstance(x, float):\n",
    "        t.append(x)\n",
    "    else:\n",
    "        t.append(datetime.strptime(x, \"%Y-%m-%dT%H:%M:%S%z\").timestamp())\n",
    "data_timestamp = np.array(t).astype(np.float32)\n",
    "\n",
    "data_anglez = data[:, 3].astype(np.float32)\n",
    "data_enmo = data[:, 4].astype(np.float32)"
   ]
  },
  {
   "cell_type": "code",
   "execution_count": 8,
   "id": "3e87658d-ce94-4595-b481-44ecbd045306",
   "metadata": {
    "tags": []
   },
   "outputs": [],
   "source": [
    "g1 = out_file.create_group(\"test_series\")\n",
    "for series_id in df.series_id.unique():\n",
    "    g2 = g1.create_group(series_id)\n",
    "\n",
    "    mask = data_series_id == series_id\n",
    "    g2.create_dataset(\"series_id\", data=data_series_id[mask])\n",
    "    g2.create_dataset(\"step\", data=data_step[mask])\n",
    "    g2.create_dataset(\"timestamp\", data=data_timestamp[mask])\n",
    "    g2.create_dataset(\"anglez\", data=data_anglez[mask])\n",
    "    g2.create_dataset(\"enmo\", data=data_enmo[mask])"
   ]
  },
  {
   "cell_type": "code",
   "execution_count": 9,
   "id": "5c676cf0-0a26-4106-b296-f1408aefcd95",
   "metadata": {
    "tags": []
   },
   "outputs": [
    {
     "data": {
      "text/plain": [
       "<HDF5 dataset \"anglez\": shape (0, 450), type \"<f4\">"
      ]
     },
     "execution_count": 9,
     "metadata": {},
     "output_type": "execute_result"
    }
   ],
   "source": [
    "out_file[\"test_series\"][\"038441c925bb\"][\"anglez\"]"
   ]
  },
  {
   "cell_type": "markdown",
   "id": "9fa247bb-9f5f-49a9-899e-6910faa8c2d2",
   "metadata": {
    "tags": []
   },
   "source": [
    "# Parse `train_series.parquet`"
   ]
  },
  {
   "cell_type": "code",
   "execution_count": 10,
   "id": "af76425a-0e63-4d55-9a72-48e45db44469",
   "metadata": {
    "tags": []
   },
   "outputs": [],
   "source": [
    "df = pd.read_parquet(\"../data/kaggle-sleep-detection/train_series.parquet\", engine=\"pyarrow\")"
   ]
  },
  {
   "cell_type": "code",
   "execution_count": 11,
   "id": "8db0a517-631b-43f7-b6c0-8ccc8dac55dd",
   "metadata": {
    "tags": []
   },
   "outputs": [],
   "source": [
    "series_ids = df.series_id.unique()"
   ]
  },
  {
   "cell_type": "code",
   "execution_count": 12,
   "id": "926e1602-fa96-4309-a61c-9518afda86de",
   "metadata": {
    "tags": []
   },
   "outputs": [],
   "source": [
    "data = df.to_numpy()"
   ]
  },
  {
   "cell_type": "code",
   "execution_count": null,
   "id": "c4c5911b-6ade-4239-898e-e8a0266becf3",
   "metadata": {
    "tags": []
   },
   "outputs": [],
   "source": [
    "data_series_id = data[:, 0].tolist()\n",
    "data_step = data[:, 1].astype(np.int32)\n",
    "\n",
    "timestamp = data[:, 2]\n",
    "t = []\n",
    "for x in timestamp:\n",
    "    if isinstance(x, float):\n",
    "        t.append(x)\n",
    "    else:\n",
    "        t.append(datetime.strptime(x, \"%Y-%m-%dT%H:%M:%S%z\").timestamp())\n",
    "data_timestamp = np.array(t).astype(np.float32)\n",
    "\n",
    "data_anglez = data[:, 3].astype(np.float32)\n",
    "data_enmo = data[:, 4].astype(np.float32)"
   ]
  },
  {
   "cell_type": "code",
   "execution_count": null,
   "id": "731e4902-1262-4779-a4d1-0e8a412a79a8",
   "metadata": {
    "tags": []
   },
   "outputs": [],
   "source": [
    "g1 = out_file.create_group(\"train_series\")\n",
    "for series_id in df.series_id.unique():\n",
    "    g2 = g1.create_group(series_id)\n",
    "\n",
    "    mask = data_series_id == series_id\n",
    "    g2.create_dataset(\"series_id\", data=data_series_id[mask])\n",
    "    g2.create_dataset(\"step\", data=data_step[mask])\n",
    "    g2.create_dataset(\"timestamp\", data=data_timestamp[mask])\n",
    "    g2.create_dataset(\"anglez\", data=data_anglez[mask])\n",
    "    g2.create_dataset(\"enmo\", data=data_enmo[mask])"
   ]
  },
  {
   "cell_type": "code",
   "execution_count": null,
   "id": "135475f4-ca19-42ff-a031-cefd387c0099",
   "metadata": {
    "tags": []
   },
   "outputs": [],
   "source": [
    "out_file[\"train_series\"].keys()"
   ]
  },
  {
   "cell_type": "code",
   "execution_count": null,
   "id": "5c9e049f-7084-470a-9799-dfe4a875aea5",
   "metadata": {},
   "outputs": [],
   "source": []
  },
  {
   "cell_type": "code",
   "execution_count": null,
   "id": "dd6feece-7716-4106-ac57-67e3f3065da9",
   "metadata": {},
   "outputs": [],
   "source": []
  },
  {
   "cell_type": "code",
   "execution_count": null,
   "id": "8fd9589d-4191-4d10-b26a-4e0dd451701c",
   "metadata": {
    "tags": []
   },
   "outputs": [],
   "source": [
    "1"
   ]
  },
  {
   "cell_type": "code",
   "execution_count": null,
   "id": "13d6833f-fa09-47f5-8f1c-6893c92bc9c2",
   "metadata": {},
   "outputs": [],
   "source": []
  },
  {
   "cell_type": "code",
   "execution_count": null,
   "id": "8913054a-8e9b-4c6b-a4bd-452af4dff49c",
   "metadata": {},
   "outputs": [],
   "source": []
  },
  {
   "cell_type": "code",
   "execution_count": null,
   "id": "15ad3367-c832-4982-b003-dc47df66e7b1",
   "metadata": {},
   "outputs": [],
   "source": []
  },
  {
   "cell_type": "code",
   "execution_count": null,
   "id": "3e7b89d7-9ae9-468c-a6fe-3e2458247157",
   "metadata": {},
   "outputs": [],
   "source": []
  },
  {
   "cell_type": "code",
   "execution_count": null,
   "id": "29207cf1-65f4-4c4e-bed0-2b8b2fcaea38",
   "metadata": {},
   "outputs": [],
   "source": []
  },
  {
   "cell_type": "code",
   "execution_count": null,
   "id": "a352d8cb-02c9-4bf4-a03d-880e0b7f6407",
   "metadata": {},
   "outputs": [],
   "source": []
  },
  {
   "cell_type": "code",
   "execution_count": null,
   "id": "0e9cae0c-f3b6-4b74-a044-5509ea6c02d8",
   "metadata": {},
   "outputs": [],
   "source": []
  },
  {
   "cell_type": "markdown",
   "id": "9c72dafa-da48-4b03-96de-464b3eae4343",
   "metadata": {},
   "source": [
    "# Parse `train_events.parquet`"
   ]
  },
  {
   "cell_type": "code",
   "execution_count": null,
   "id": "993f0f91-bdae-4f3c-8ea2-c0e571c4d432",
   "metadata": {},
   "outputs": [],
   "source": []
  },
  {
   "cell_type": "code",
   "execution_count": null,
   "id": "b98933db-7d7e-4fc2-8c0c-0828bde9ba70",
   "metadata": {},
   "outputs": [],
   "source": []
  },
  {
   "cell_type": "code",
   "execution_count": null,
   "id": "158c94f6-c35d-4922-9dfd-24ae49421f25",
   "metadata": {},
   "outputs": [],
   "source": []
  },
  {
   "cell_type": "code",
   "execution_count": null,
   "id": "36ac5f89-67fd-42b7-91d9-87523aee54ab",
   "metadata": {},
   "outputs": [],
   "source": []
  },
  {
   "cell_type": "code",
   "execution_count": null,
   "id": "42aff80c-6344-4cc0-96be-1cd0b8cdd5d1",
   "metadata": {},
   "outputs": [],
   "source": []
  },
  {
   "cell_type": "code",
   "execution_count": null,
   "id": "321647b9-f1fc-45b6-8969-31979e4bf097",
   "metadata": {},
   "outputs": [],
   "source": []
  },
  {
   "cell_type": "code",
   "execution_count": null,
   "id": "5de3ece9-21c0-4215-90f9-d12564800f72",
   "metadata": {},
   "outputs": [],
   "source": []
  },
  {
   "cell_type": "code",
   "execution_count": null,
   "id": "e620d5bc-b5dd-481b-97d0-f8e931201dcf",
   "metadata": {},
   "outputs": [],
   "source": []
  },
  {
   "cell_type": "code",
   "execution_count": null,
   "id": "c1501256-ae79-4396-9090-028663f85d68",
   "metadata": {},
   "outputs": [],
   "source": []
  }
 ],
 "metadata": {
  "kernelspec": {
   "display_name": "Python 3 (ipykernel)",
   "language": "python",
   "name": "python3"
  },
  "language_info": {
   "codemirror_mode": {
    "name": "ipython",
    "version": 3
   },
   "file_extension": ".py",
   "mimetype": "text/x-python",
   "name": "python",
   "nbconvert_exporter": "python",
   "pygments_lexer": "ipython3",
   "version": "3.9.16"
  }
 },
 "nbformat": 4,
 "nbformat_minor": 5
}
